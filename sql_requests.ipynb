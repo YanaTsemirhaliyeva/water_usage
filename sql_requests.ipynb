{
 "cells": [
  {
   "cell_type": "code",
   "execution_count": 41,
   "id": "1a4a8a73-27b2-4bf9-94be-e397ae713daf",
   "metadata": {},
   "outputs": [],
   "source": [
    "import os \n",
    "from IPython.display import display\n",
    "import pandas as pd\n",
    "import sys\n",
    "sys.path.insert(0, './utils')\n",
    "\n",
    "from sql_connection import Connector\n"
   ]
  },
  {
   "cell_type": "code",
   "execution_count": 42,
   "id": "042c4e5e-902a-4c68-af85-16d2531f0323",
   "metadata": {},
   "outputs": [
    {
     "name": "stdout",
     "output_type": "stream",
     "text": [
      "Данные успешно импортированы в SQLite базу данных.\n"
     ]
    }
   ],
   "source": [
    "file_path = './data/water_use_by_country_cleaned.csv'\n",
    "db_name = 'water_usage.db'\n",
    "\n",
    "# Создание экземпляра класса Connector и подключение к базе данных\n",
    "connector = Connector(db_name)\n",
    "connector.connect()\n",
    "\n",
    "# Проверка существования файла и импорт данных\n",
    "if os.path.exists(file_path):\n",
    "    # Загрузка датасета из CSV файла\n",
    "    df = pd.read_csv(file_path)\n",
    "\n",
    "    # Создание таблицы и вставка данных\n",
    "    connector.cursor.execute('''\n",
    "    CREATE TABLE IF NOT EXISTS water_usage (\n",
    "        country TEXT,\n",
    "        yearly_water_used REAL,\n",
    "        daily_water_used_per_capita REAL,\n",
    "        population INTEGER\n",
    "    )\n",
    "    ''')\n",
    "\n",
    "    df.to_sql('water_usage', connector.conn, if_exists='replace', index=False)\n",
    "    print(\"Данные успешно импортированы в SQLite базу данных.\")\n",
    "else:\n",
    "    print(f\"Файл {file_path} не найден. Убедитесь, что путь указан правильно.\")\n",
    "\n",
    "    \n",
    "# Закрытие соединения\n",
    "connector.close()\n"
   ]
  },
  {
   "cell_type": "code",
   "execution_count": 43,
   "id": "c44dcce2-14c4-4b26-8860-7b222ef8cb3d",
   "metadata": {},
   "outputs": [
    {
     "name": "stdout",
     "output_type": "stream",
     "text": [
      "               Country  yearly_water_used(m3)  daily_water_used_per_capita(l)  Population\n",
      "0          Afghanistan            20280000000                            2760    20130327\n",
      "1              Albania             1311000000                            1177     3050809\n",
      "2              Algeria             9978000000                             669    40850721\n",
      "3               Angola              705800000                             100    19291161\n",
      "4  Antigua and Barbuda               11500000                             361       87260\n",
      "<class 'pandas.core.frame.DataFrame'>\n",
      "RangeIndex: 179 entries, 0 to 178\n",
      "Data columns (total 4 columns):\n",
      " #   Column                          Non-Null Count  Dtype \n",
      "---  ------                          --------------  ----- \n",
      " 0   Country                         179 non-null    object\n",
      " 1   yearly_water_used(m3)           179 non-null    int64 \n",
      " 2   daily_water_used_per_capita(l)  179 non-null    int64 \n",
      " 3   Population                      179 non-null    int64 \n",
      "dtypes: int64(3), object(1)\n",
      "memory usage: 5.7+ KB\n",
      "None\n",
      "       yearly_water_used(m3)  daily_water_used_per_capita(l)    Population\n",
      "count           1.790000e+02                      179.000000  1.790000e+02\n",
      "mean            2.232826e+10                     1329.474860  3.934161e+07\n",
      "std             8.243167e+10                     1561.617633  1.441403e+08\n",
      "min             5.000000e+06                       32.000000  3.236400e+04\n",
      "25%             4.987000e+08                      355.500000  2.819614e+06\n",
      "50%             2.088000e+09                      856.000000  8.365092e+06\n",
      "75%             1.056500e+10                     1933.000000  2.619182e+07\n",
      "max             7.610000e+11                    15445.000000  1.396134e+09\n"
     ]
    }
   ],
   "source": [
    "query = '''SELECT * FROM water_usage'''\n",
    "data = connector.execute_query(query)\n",
    "columns = ['Country', 'yearly_water_used(m3)', 'daily_water_used_per_capita(l)', 'Population']\n",
    "df = pd.DataFrame(data, columns=columns)\n",
    "# Просматриваем первые несколько строк датасета\n",
    "print(df.head())\n",
    "\n",
    "# Получаем общую информацию о датасете\n",
    "print(df.info())\n",
    "\n",
    "# Выводим статистические данные о числовых столбцах\n",
    "print(df.describe())\n"
   ]
  },
  {
   "cell_type": "code",
   "execution_count": 44,
   "id": "eff2e72e-2f3f-4e9f-ba46-982fb2fd738b",
   "metadata": {},
   "outputs": [
    {
     "name": "stdout",
     "output_type": "stream",
     "text": [
      "('Afghanistan', 20280000000, 2760, 20130327)\n",
      "('Albania', 1311000000, 1177, 3050809)\n",
      "('Algeria', 9978000000, 669, 40850721)\n",
      "('Angola', 705800000, 100, 19291161)\n",
      "('Antigua and Barbuda', 11500000, 361, 87260)\n",
      "('Argentina', 37780000000, 2480, 41730660)\n",
      "('Armenia', 2847000000, 2676, 2914963)\n",
      "('Australia', 16130000000, 1816, 24329963)\n",
      "('Austria', 3492000000, 1144, 8365092)\n",
      "('Azerbaijan', 12780000000, 3512, 9968510)\n"
     ]
    }
   ],
   "source": [
    "query = '''\n",
    "    SELECT\n",
    "        country,\n",
    "        \"Yearly Water Used(m3, thousand of liters)\",\n",
    "        \"Daily Water Used Per Capita(liters)\",\n",
    "        population\n",
    "    FROM water_usage\n",
    "    LIMIT 10'''\n",
    "data = connector.execute_query(query)\n",
    "for row in data:\n",
    "    print(row)\n"
   ]
  },
  {
   "cell_type": "code",
   "execution_count": 45,
   "id": "027187fc-9cbb-4cbd-922d-79b58d7d0a60",
   "metadata": {},
   "outputs": [
    {
     "name": "stdout",
     "output_type": "stream",
     "text": [
      "               Country  yearly_water_used  daily_water_used_per_capita  Population\n",
      "0          Afghanistan        20280000000                         2760    20130327\n",
      "1              Albania         1311000000                         1177     3050809\n",
      "2              Algeria         9978000000                          669    40850721\n",
      "3               Angola          705800000                          100    19291161\n",
      "4  Antigua and Barbuda           11500000                          361       87260\n",
      "5            Argentina        37780000000                         2480    41730660\n",
      "6              Armenia         2847000000                         2676     2914963\n",
      "7            Australia        16130000000                         1816    24329963\n",
      "8              Austria         3492000000                         1144     8365092\n",
      "9           Azerbaijan        12780000000                         3512     9968510\n"
     ]
    }
   ],
   "source": [
    "# Настройка ширины вывода в Jupyter Notebook\n",
    "pd.set_option('display.max_columns', None)\n",
    "pd.set_option('display.width', 800)\n",
    "\n",
    "query = '''\n",
    "    SELECT\n",
    "        country,\n",
    "        \"Yearly Water Used(m3, thousand of liters)\",\n",
    "        \"Daily Water Used Per Capita(liters)\",\n",
    "        population\n",
    "    FROM water_usage\n",
    "    LIMIT 10'''\n",
    "data = connector.execute_query(query)\n",
    "\n",
    "# Создание DataFrame из полученных данных\n",
    "columns = ['Country', 'yearly_water_used', 'daily_water_used_per_capita', 'Population']\n",
    "df = pd.DataFrame(data, columns=columns)\n",
    "\n",
    "print(df)"
   ]
  },
  {
   "cell_type": "code",
   "execution_count": 46,
   "id": "7ece4577-a081-4f71-bd67-5851c93983f2",
   "metadata": {},
   "outputs": [
    {
     "name": "stdout",
     "output_type": "stream",
     "text": [
      "                    Country  yearly_water_used  daily_water_used_per_capita  Population\n",
      "0                  DR Congo          683600000                           32    58775724\n",
      "1                     Congo           46000000                           38     3350771\n",
      "2  Central African Republic           72500000                           46     4288810\n",
      "3                     Benin          130000000                           48     7445596\n",
      "4                  Maldives            5900000                           48      336170\n"
     ]
    }
   ],
   "source": [
    "# Вывод топ 5 стран с наименьшим расходом воды на душу населения\n",
    "query = '''\n",
    "    SELECT\n",
    "        country,\n",
    "        \"Yearly Water Used(m3, thousand of liters)\",\n",
    "        \"Daily Water Used Per Capita(liters)\",\n",
    "        population\n",
    "        FROM water_usage\n",
    "        ORDER BY \"Daily Water Used Per Capita(liters)\"\n",
    "        LIMIT 5'''\n",
    "data = connector.execute_query(query)\n",
    "\n",
    "columns = ['Country', 'yearly_water_used', 'daily_water_used_per_capita', 'Population']\n",
    "df = pd.DataFrame(data, columns=columns)\n",
    "\n",
    "print(df)"
   ]
  },
  {
   "cell_type": "code",
   "execution_count": 47,
   "id": "3af7e6e0-21af-44da-89f9-ebca988be15b",
   "metadata": {},
   "outputs": [
    {
     "name": "stdout",
     "output_type": "stream",
     "text": [
      "        Country  yearly_water_used  daily_water_used_per_capita  Population\n",
      "0  Turkmenistan        27950000000                        15445     4958093\n",
      "1         Chile        35430000000                         5880    16509195\n",
      "2        Guyana         1445000000                         5284      749256\n",
      "3    Uzbekistan        54560000000                         4778    31284568\n",
      "4    Tajikistan        11490000000                         4460     7057566\n"
     ]
    }
   ],
   "source": [
    "# Настройка ширины вывода в Jupyter Notebook\n",
    "pd.set_option('display.max_columns', None)\n",
    "pd.set_option('display.width', 800)\n",
    "\n",
    "# Вывод топ 5 стран с наибольшим расходом воды на душу населения\n",
    "query = '''\n",
    "    SELECT\n",
    "        country,\n",
    "        \"Yearly Water Used(m3, thousand of liters)\",\n",
    "        \"Daily Water Used Per Capita(liters)\",\n",
    "        population\n",
    "        FROM water_usage\n",
    "        ORDER BY \"Daily Water Used Per Capita(liters)\" DESC\n",
    "        LIMIT 5'''\n",
    "data = connector.execute_query(query)\n",
    "\n",
    "columns = ['Country', 'yearly_water_used', 'daily_water_used_per_capita', 'Population']\n",
    "df = pd.DataFrame(data, columns=columns)\n",
    "\n",
    "print(df)"
   ]
  },
  {
   "cell_type": "code",
   "execution_count": 48,
   "id": "358488f7-1b53-4553-a38e-a42d60025234",
   "metadata": {},
   "outputs": [
    {
     "name": "stdout",
     "output_type": "stream",
     "text": [
      "\n",
      "max:         country  daily_water_used_by_person\n",
      "0  Turkmenistan                       15445 \n",
      "min:     country  daily_water_used_by_person\n",
      "0  DR Congo                          32 \n",
      "avg:    daily_water_used_by_person\n",
      "0                      1329.0\n"
     ]
    }
   ],
   "source": [
    "query_max = '''\n",
    "    SELECT\n",
    "        country,\n",
    "        MAX(\"Daily Water Used Per Capita(liters)\")\n",
    "    FROM water_usage\n",
    "'''\n",
    "\n",
    "query_min = '''\n",
    "    SELECT\n",
    "        country,\n",
    "        MIN(\"Daily Water Used Per Capita(liters)\")\n",
    "    FROM water_usage\n",
    "'''\n",
    "\n",
    "query_avg = '''\n",
    "    SELECT\n",
    "        FLOOR(AVG(\"Daily Water Used Per Capita(liters)\"))\n",
    "    FROM water_usage\n",
    "'''\n",
    "\n",
    "\n",
    "data_max = connector.execute_query(query_max)\n",
    "data_min = connector.execute_query(query_min)\n",
    "data_avg = connector.execute_query(query_avg)\n",
    "\n",
    "columns_max = ['country', 'daily_water_used_by_person']\n",
    "df_max = pd.DataFrame(data_max, columns=columns_max)\n",
    "\n",
    "columns_min = ['country', 'daily_water_used_by_person']\n",
    "df_min = pd.DataFrame(data_min, columns=columns_min)\n",
    "\n",
    "columns_avg = ['daily_water_used_by_person']\n",
    "df_avg = pd.DataFrame(data_avg, columns=columns_avg)\n",
    "\n",
    "print(f'\\nmax: {df_max} \\nmin: {df_min} \\navg: {df_avg}')\n"
   ]
  },
  {
   "cell_type": "code",
   "execution_count": 49,
   "id": "7b9ae440-755f-4f27-b9c3-69255d648dde",
   "metadata": {},
   "outputs": [
    {
     "name": "stdout",
     "output_type": "stream",
     "text": [
      "   country  yearly_water_used  daily_water_used_per_capita  population\n",
      "0  Belarus         1452000000                          419     9499064\n"
     ]
    }
   ],
   "source": [
    "query = '''\n",
    "    SELECT\n",
    "        country,\n",
    "        \"Yearly Water Used(m3, thousand of liters)\",\n",
    "        \"Daily Water Used Per Capita(liters)\",\n",
    "        population\n",
    "    FROM water_usage\n",
    "    WHERE country = 'Belarus'\n",
    "'''\n",
    "\n",
    "data = connector.execute_query(query)\n",
    "\n",
    "columns = ['country', 'yearly_water_used', 'daily_water_used_per_capita', 'population']\n",
    "df = pd.DataFrame(data, columns=columns)\n",
    "\n",
    "print(df)"
   ]
  },
  {
   "cell_type": "code",
   "execution_count": 50,
   "id": "6539c60a-70df-4327-b464-84496be778f0",
   "metadata": {},
   "outputs": [
    {
     "name": "stdout",
     "output_type": "stream",
     "text": [
      "   total_yearly_water_used(m3)  total_daily_water_used_per_capita(l)\n",
      "0                3996757700000                                237976\n"
     ]
    }
   ],
   "source": [
    "query = '''\n",
    "    SELECT\n",
    "        SUM(\"Yearly Water Used(m3, thousand of liters)\"),\n",
    "        SUM(\"Daily Water Used Per Capita(liters)\")\n",
    "    FROM water_usage\n",
    "'''\n",
    "\n",
    "data = connector.execute_query(query)\n",
    "\n",
    "columns = ['total_yearly_water_used(m3)', 'total_daily_water_used_per_capita(l)']\n",
    "df = pd.DataFrame(data, columns=columns)\n",
    "\n",
    "print(df)"
   ]
  },
  {
   "cell_type": "code",
   "execution_count": null,
   "id": "c5bcb4a5-67bb-4a35-89aa-f2a87759aac3",
   "metadata": {},
   "outputs": [],
   "source": []
  }
 ],
 "metadata": {
  "kernelspec": {
   "display_name": "Python 3 (ipykernel)",
   "language": "python",
   "name": "python3"
  },
  "language_info": {
   "codemirror_mode": {
    "name": "ipython",
    "version": 3
   },
   "file_extension": ".py",
   "mimetype": "text/x-python",
   "name": "python",
   "nbconvert_exporter": "python",
   "pygments_lexer": "ipython3",
   "version": "3.12.7"
  }
 },
 "nbformat": 4,
 "nbformat_minor": 5
}
